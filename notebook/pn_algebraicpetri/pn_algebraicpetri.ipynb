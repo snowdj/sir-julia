{
  "cells": [
    {
      "cell_type": "markdown",
      "source": [
        "# Petri net model using AlgebraicPetri.jl\nMicah Halter (@mehalter), 2020-07-13\n\n## Introduction\n\nOne representation of the SIR model is to think of it as the combination of two\ninteractions, transmission and recovery.\n[AlgebraicPetri.jl](https://github.com/AlgebraicJulia/AlgebraicPetri.jl) allows\nyou to define a theory of modeling (e.g. Epidemiology), and then provides a DSL\nfor defining models in that theory as open dynamical systems where the\nunderlying theory is preserved. This implementation defines the SIR model as the\ncomposition of two interactions defined at domain-level semantics, transmission\nand recovery, and then generates an appropriate\n[Petri.jl](https://github.com/mehalter/Petri.jl) model that can generate ODE,\nSDE, and jump process solvers.\n\n## Libraries"
      ],
      "metadata": {}
    },
    {
      "outputs": [],
      "cell_type": "code",
      "source": [
        "using AlgebraicPetri.Epidemiology\nusing Petri\nusing Catlab.Theories\nusing Catlab.CategoricalAlgebra.ShapeDiagrams\nusing Catlab.Graphics\nusing OrdinaryDiffEq\nusing StochasticDiffEq\nusing DiffEqJump\nusing Random\nusing Plots\n\n# helper function to visualize categorical representation\ndisplay_wd(ex) = to_graphviz(ex, orientation=LeftToRight, labels=true);"
      ],
      "metadata": {},
      "execution_count": null
    },
    {
      "cell_type": "markdown",
      "source": [
        "## Define a Theory\n\nAlgebraicPetri comes packaged with an `Epidemiology` module with a basic,\npredefined theory of epidemiology models. The source starts by defining a theory\nin a specified category.  Here we have 4 types ($S$: susceptible, $E$: exposed,\n$I$: infected, $R$: recovered, $D$: dead) and 5 domain processes\n($transmission: S \\otimes I \\rightarrow I$,\n$exposure: S \\otimes I \\rightarrow E \\otimes I$,\n$illness: E \\rightarrow I$, $recovery: I \\rightarrow R$,\n$death: I \\rightarrow D$).  This defines a theory thata can be use to describe\nepidemiology models at domain-level semantics."
      ],
      "metadata": {}
    },
    {
      "outputs": [],
      "cell_type": "code",
      "source": [
        "@present InfectiousDiseases(FreeBiproductCategory) begin\n    S::Ob\n    E::Ob\n    I::Ob\n    R::Ob\n    D::Ob\n    transmission::Hom(S⊗I, I)\n    exposure::Hom(S⊗I, E⊗I)\n    illness::Hom(E,I)\n    recovery::Hom(I,R)\n    death::Hom(I,D)\nend"
      ],
      "metadata": {},
      "execution_count": null
    },
    {
      "cell_type": "markdown",
      "source": [
        "To be able to build up large Petri nets using these terms, we must define the\nbuilding block Petri nets that describe each of the interactions. For this we\nhave the following code that defines 3 petri nets: `spontaneous_petri` defines a\npetri net with 2 states, and a transition from $S_1$ to $S_2$ to represent a\nspontaneous change; `transmission_petri` defines a petri net where $S_1$ and\n$S_2$ interact and produce 2 $S_2$; and lastly `exposure_petri` where there are\n3 states and a transition where $S_1$ and $S_2$ interact and produce an $S_2$\nand $S_3$ to represent an infected population causing the susceptible population\nto become exposed.  Lastly, we need to define a dictionary that connects the\nobjects from the theory to the petri net objects that define the interactions."
      ],
      "metadata": {}
    },
    {
      "outputs": [],
      "cell_type": "code",
      "source": [
        "ob = PetriCospanOb(1)\nspontaneous_petri = PetriCospan([1], Petri.Model(1:2, [(Dict(1=>1), Dict(2=>1))]), [2])\ntransmission_petri = PetriCospan([1], Petri.Model(1:2, [(Dict(1=>1, 2=>1), Dict(2=>2))]), [2])\nexposure_petri = PetriCospan([1, 2], Petri.Model(1:3, [(Dict(1=>1, 2=>1), Dict(3=>1, 2=>1))]), [3, 2])\n\nconst FunctorGenerators = Dict(S=>ob, E=>ob, I=>ob, R=>ob, D=>ob,\n        transmission=>transmission_petri, exposure=>exposure_petri,\n        illness=>spontaneous_petri, recovery=>spontaneous_petri, death=>spontaneous_petri)"
      ],
      "metadata": {},
      "execution_count": null
    },
    {
      "cell_type": "markdown",
      "source": [
        "## Transitions\n\nUsing the categorical framework provided by the AlgebraicJulia environment, we\ncan think of building models as the combination of known building block open\nmodels.  For example we have $transmission: S \\otimes I \\rightarrow I$ and\n$recovery: I \\rightarrow R$ interactions defined in the Epidemiology module of\nAlgebraicPetri which can be visualized as the following Petri nets.\n\nTransmission (where $S_1 = S$ and $S_2 = I$):"
      ],
      "metadata": {}
    },
    {
      "outputs": [],
      "cell_type": "code",
      "source": [
        "Graph(decoration(F_epi(transmission)))"
      ],
      "metadata": {},
      "execution_count": null
    },
    {
      "cell_type": "markdown",
      "source": [
        "Recovery (where $S_1 = I$ and $S_2 = R$):"
      ],
      "metadata": {}
    },
    {
      "outputs": [],
      "cell_type": "code",
      "source": [
        "Graph(decoration(F_epi(recovery)))"
      ],
      "metadata": {},
      "execution_count": null
    },
    {
      "cell_type": "markdown",
      "source": [
        "In this approach we can think of an sir model as the composition of transmission\nand recovery. This allows us to define the relationship that the infected\npopulation coming out of the transmission interaction is the same as population\nof infected in the recovery interaction."
      ],
      "metadata": {}
    },
    {
      "outputs": [],
      "cell_type": "code",
      "source": [
        "sir_wiring_diagram = transmission ⋅ recovery\ndisplay_wd(sir_wiring_diagram)"
      ],
      "metadata": {},
      "execution_count": null
    },
    {
      "cell_type": "markdown",
      "source": [
        "using the function `F_epi` provided by `AlgebraicPetri.Epidemiology`, we can\nconvert this categorical definition of SIR to the Petri net representation and\nvisualize the newly created model (where $S_1 = S$, $S_2 = I$, and $S_3 = R$)."
      ],
      "metadata": {}
    },
    {
      "outputs": [],
      "cell_type": "code",
      "source": [
        "sir_model = decoration(F_epi(sir_wiring_diagram));\nGraph(sir_model)"
      ],
      "metadata": {},
      "execution_count": null
    },
    {
      "cell_type": "markdown",
      "source": [
        "## Time domain"
      ],
      "metadata": {}
    },
    {
      "outputs": [],
      "cell_type": "code",
      "source": [
        "tmax = 40.0\ntspan = (0.0,tmax);"
      ],
      "metadata": {},
      "execution_count": null
    },
    {
      "cell_type": "markdown",
      "source": [
        "## Initial conditions"
      ],
      "metadata": {}
    },
    {
      "outputs": [],
      "cell_type": "code",
      "source": [
        "u0 = [990,10,0]; # S,I,R"
      ],
      "metadata": {},
      "execution_count": null
    },
    {
      "cell_type": "markdown",
      "source": [
        "## Parameter values"
      ],
      "metadata": {}
    },
    {
      "outputs": [],
      "cell_type": "code",
      "source": [
        "p = [0.05*10.0/sum(u0),0.25]; # β*c/N,γ"
      ],
      "metadata": {},
      "execution_count": null
    },
    {
      "cell_type": "markdown",
      "source": [
        "## Random number seed\n\nWe set a random number seed for reproducibility."
      ],
      "metadata": {}
    },
    {
      "outputs": [],
      "cell_type": "code",
      "source": [
        "Random.seed!(1234);"
      ],
      "metadata": {},
      "execution_count": null
    },
    {
      "cell_type": "markdown",
      "source": [
        "## Generating and running models\n\n### As ODEs"
      ],
      "metadata": {}
    },
    {
      "outputs": [],
      "cell_type": "code",
      "source": [
        "prob_ode = ODEProblem(sir_model,u0,tspan,p)\nsol_ode = solve(prob_ode, Tsit5());\nplot(sol_ode)"
      ],
      "metadata": {},
      "execution_count": null
    },
    {
      "cell_type": "markdown",
      "source": [
        "### As SDEs"
      ],
      "metadata": {}
    },
    {
      "outputs": [],
      "cell_type": "code",
      "source": [
        "prob_sde,cb = SDEProblem(sir_model,u0,tspan,p)\nsol_sde = solve(prob_sde,LambaEM(),callback=cb);\nplot(sol_sde)"
      ],
      "metadata": {},
      "execution_count": null
    },
    {
      "cell_type": "markdown",
      "source": [
        "### As jump process"
      ],
      "metadata": {}
    },
    {
      "outputs": [],
      "cell_type": "code",
      "source": [
        "prob_jump = JumpProblem(sir_model, u0, tspan, p)\nsol_jump = solve(prob_jump,SSAStepper());\nplot(sol_jump)"
      ],
      "metadata": {},
      "execution_count": null
    }
  ],
  "nbformat_minor": 2,
  "metadata": {
    "language_info": {
      "file_extension": ".jl",
      "mimetype": "application/julia",
      "name": "julia",
      "version": "1.4.2"
    },
    "kernelspec": {
      "name": "julia-1.4",
      "display_name": "Julia 1.4.2",
      "language": "julia"
    }
  },
  "nbformat": 4
}
